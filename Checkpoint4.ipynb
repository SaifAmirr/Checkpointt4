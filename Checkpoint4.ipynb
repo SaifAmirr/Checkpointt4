{
 "cells": [
  {
   "cell_type": "code",
   "execution_count": 19,
   "id": "57b8c51c",
   "metadata": {},
   "outputs": [
    {
     "data": {
      "text/plain": [
       "36"
      ]
     },
     "execution_count": 19,
     "metadata": {},
     "output_type": "execute_result"
    }
   ],
   "source": [
    "#Question 1\n",
    "def myfunction(a,b,c):\n",
    "    if a>b and a>c:\n",
    "        return(a)\n",
    "    elif b>a and b>c:\n",
    "        return(b)\n",
    "    elif c>a and c>b:\n",
    "        return(c)\n",
    "myfunction(33, 36, 30)    \n",
    "            \n",
    "            \n",
    "  \n",
    " \n",
    "    \n",
    "\n",
    "        \n"
   ]
  },
  {
   "cell_type": "code",
   "execution_count": 20,
   "id": "d33dac7a",
   "metadata": {},
   "outputs": [
    {
     "data": {
      "text/plain": [
       "(50, 30)"
      ]
     },
     "execution_count": 20,
     "metadata": {},
     "output_type": "execute_result"
    }
   ],
   "source": [
    "#Question 2 \n",
    "def calculation(a,b):\n",
    "    return(a+b, a-b)\n",
    "calculation(40,10)"
   ]
  },
  {
   "cell_type": "code",
   "execution_count": 34,
   "id": "0c6abd0e",
   "metadata": {},
   "outputs": [
    {
     "name": "stdout",
     "output_type": "stream",
     "text": [
      "16\n"
     ]
    },
    {
     "data": {
      "text/plain": [
       "18"
      ]
     },
     "execution_count": 34,
     "metadata": {},
     "output_type": "execute_result"
    }
   ],
   "source": [
    "#Question 3\n",
    "def myfunction(a):\n",
    "    total = 0\n",
    "    for i in range(0, len(a)):\n",
    "        total = total + a[i]\n",
    "    print(total)\n",
    "myfunction([1, 3, 5, 7])    \n",
    " \n",
    "    \n",
    "def myfunction(b):\n",
    "    result = 1\n",
    "    for i in b:\n",
    "        result = result*i\n",
    "    return result\n",
    "myfunction([1,3,6])\n",
    "                         \n",
    "        \n",
    "    \n",
    "    \n",
    "   \n",
    "        \n"
   ]
  },
  {
   "cell_type": "code",
   "execution_count": 6,
   "id": "b665512c",
   "metadata": {},
   "outputs": [
    {
     "name": "stdout",
     "output_type": "stream",
     "text": [
      "Enter your string: green-red-yellow-black-white\n",
      "black-green-red-white-yellow\n"
     ]
    }
   ],
   "source": [
    "\n",
    "#Question 4\n",
    "n=input(\"Enter your string: \")\n",
    "l=n.split('-')\n",
    "l.sort()\n",
    "print('-'.join(l))\n",
    "\n"
   ]
  },
  {
   "cell_type": "code",
   "execution_count": null,
   "id": "072fec56",
   "metadata": {},
   "outputs": [],
   "source": []
  },
  {
   "cell_type": "code",
   "execution_count": null,
   "id": "27292e4f",
   "metadata": {},
   "outputs": [],
   "source": []
  }
 ],
 "metadata": {
  "kernelspec": {
   "display_name": "Python 3 (ipykernel)",
   "language": "python",
   "name": "python3"
  },
  "language_info": {
   "codemirror_mode": {
    "name": "ipython",
    "version": 3
   },
   "file_extension": ".py",
   "mimetype": "text/x-python",
   "name": "python",
   "nbconvert_exporter": "python",
   "pygments_lexer": "ipython3",
   "version": "3.9.7"
  }
 },
 "nbformat": 4,
 "nbformat_minor": 5
}
